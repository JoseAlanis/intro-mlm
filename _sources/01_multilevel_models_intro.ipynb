{
 "cells": [
  {
   "cell_type": "markdown",
   "metadata": {
    "slideshow": {
     "slide_type": "slide"
    }
   },
   "source": [
    "# Einführung - Die Grund Idee eines MLM\n",
    "<br>\n",
    "\n",
    "Ansprechpartner: \n",
    "[José C. García Alanis (he/him)](https://github.com/JoseAlanis)  \n",
    "Wissenschaftlicher Mitarbeiter - Analyse und Modellierung komplexer Daten [an der JGU](https://methoden.amd.psychologie.uni-mainz.de/).  \n",
    "Kinder- und Jugendlichen-Psychotherapie in [Marburg](https://www.uni-marburg.de/de).  \n",
    "Mitglied in [RTG 2271 | Breaking Expectations](https://www.uni-marburg.de/en/fb04/rtg-2271) und [Brainhack](https://brainhack.org/).  \n",
    "<br>\n",
    "\n",
    "Kontakt:\n",
    "[jose.alanis[at]uni-mainz.de](jose.alanis@uni-mainz.de)  \n",
    "\n",
    "<img align=\"left\" src=\"https://raw.githubusercontent.com/G0RELLA/gorella_mwn/master/lecture/static/Twitter%20social%20icons%20-%20circle%20-%20blue.png\" alt=\"logo\" title=\"Twitter\" width=\"30\" height=\"30\" /> <img align=\"left\" src=\"https://raw.githubusercontent.com/G0RELLA/gorella_mwn/master/lecture/static/GitHub-Mark-120px-plus.png\" alt=\"logo\" title=\"Github\" width=\"30\" height=\"30\" />   &nbsp;&nbsp;[@JoiAlhaniz](https://twitter.com/JoiAlhaniz) / [@JoseAlanis](https://github.com/JoseAlanis)\n",
    "\n",
    "<br>"
   ]
  },
  {
   "cell_type": "markdown",
   "metadata": {
    "slideshow": {
     "slide_type": "slide"
    }
   },
   "source": [
    "## Ziele\n",
    "\n",
    "Am Ende des heutigen Termins solltet ihr folgede Fragen beantworten können:\n",
    "\n",
    "- Was sind hierachische Daten?\n",
    "- Wie sehen hierarchische Daten aus?\n",
    "- Welche Komplikationen bringen hierarchische Daten mit sich?\n",
    "- Worauf soll man aufpassen, wenn man mit hierarchischen Daten zu tun hat?\n",
    "- Wie kann man mit hierarchischen Daten umgehen? (Ausblick)"
   ]
  },
  {
   "cell_type": "markdown",
   "metadata": {
    "slideshow": {
     "slide_type": "slide"
    }
   },
   "source": [
    "## Die grund Idee\n",
    "\n",
    "Eine simple Annahme:\n",
    "\n",
    "Die Ausprägung einer Variable hängt von der Ausprägung einer anderen Variable (oder Kombination von Variablen) ab.\n",
    "\n",
    "- Beschreibung des Zusammenhangs anhand einer linearen Regression:\n",
    "\n",
    "$$\n",
    "y =\\beta_{0} + X\\beta + \\epsilon\n",
    "$$"
   ]
  },
  {
   "cell_type": "markdown",
   "metadata": {
    "slideshow": {
     "slide_type": "subslide"
    }
   },
   "source": [
    "Stellen Sie sich folgendes Beispiel vor. Dargestellt ist der Zusammenhang zwischen zweier Variablen `var_x` und `var_y`.\n",
    "\n",
    "- wir könnten annehmen, dass `var_x` die Studiendauer (in Monaten) von Studiumbasolvent_innen repräsentiert. `var_y` könnte das Einstiegsgehalt repräsentieren.\n",
    "- Die unten stehende Abbildung suggeriert: \n",
    "  - Je mehr von `x` (Dauer des Studiums) desto mehr von `y` (Gehalt).\n",
    "\n",
    "<center>\n",
    "     <div \n",
    "          style=\"max-width: 70%; height: auto;\">\n",
    "         <img \n",
    "              src=\"static/simple_regress.png\" \n",
    "              alt=\"Photo showing Jose Alanis\" \n",
    "              title=\"simple_rel\" >\n",
    "     </div>\n",
    "</center>\n",
    "\n",
    "- Was sagt die *gefittete* Linie aus?\n",
    "  - Die linie Zeit die **best mögliche** Beschreibung zwischen `var_x` und `var_y`. *Best möglich* bedeutet, dass wir eine möglichst genaue Schätzung von `var_y` für jeden Wert von `var_x` haben.\n",
    "  - Da der Zusammenhang zwischen den beiden Variablen nicht perfekt ist, müssen wir fehler im Kauf nehmen. Wir wollen aber, dass dieser Fehler möglichst gerig ist."
   ]
  },
  {
   "cell_type": "markdown",
   "metadata": {
    "slideshow": {
     "slide_type": "subslide"
    }
   },
   "source": [
    "Nun denken Sie über folgende Aussagen nach:\n",
    "\n",
    "- \"Ein langes Studium zahlt sich in barer Münze aus\" (Krämer 2009, S. 165)\n",
    "- Zu diesem überraschenden Ergebnis kommt eine Studie über die Einstiegsgehälter von Berufsanfängern, für die die Deutsche Gesellschaft für Personalführung 44 Firmen befragt hat."
   ]
  },
  {
   "cell_type": "markdown",
   "metadata": {
    "slideshow": {
     "slide_type": "subslide"
    }
   },
   "source": [
    "- Also ein längeres Studium für zu einem höheren Einstiegsgehält\n",
    "\n",
    "<br>\n",
    "\n",
    "<center>\n",
    "         <div style=\"max-width: 30%; height: auto;\">\n",
    "    <img src=\"https://media2.giphy.com/media/11bsDL7acBaiKk/giphy.gif?cid=ecf05e475gub83vlhr22qwcguc34v6vwm95vnyklhspa7z7j&rid=giphy.gif&ct=g\" alt=\"logo\" title=\"Github\" />\n",
    "    </div>\n",
    "</center>"
   ]
  },
  {
   "cell_type": "markdown",
   "metadata": {
    "slideshow": {
     "slide_type": "subslide"
    }
   },
   "source": [
    "- \"Ein langes Studium zahlt sich in barer Münze aus\" (Krämer 2009, S. 165) (je mehr von `x` desto mehr von `y`)"
   ]
  },
  {
   "cell_type": "markdown",
   "metadata": {
    "slideshow": {
     "slide_type": "subslide"
    }
   },
   "source": [
    "- Wie sieht es aus, wenn wir die Struktur der Daten berücksichitigen?\n",
    "  - z.B. Wie sieht es aus mit Subgruppen? Sind die Daten *homogen*?\n",
    "\n",
    "<center>\n",
    "    <div \n",
    "         style=\"max-width: 70%; height: auto;\">\n",
    "        <img src=\"static/simple_groups.png\" \n",
    "             alt=\"Photo showing Jose Alanis\" \n",
    "             title=\"Jose\" />\n",
    "    </div>       \n",
    "</center>"
   ]
  },
  {
   "cell_type": "markdown",
   "metadata": {
    "slideshow": {
     "slide_type": "subslide"
    }
   },
   "source": [
    "\n",
    "  - wie wirkt sich die **hierarchische Struktur der Daten** auf die Regressions ergebnisse?\n",
    "\n",
    "<center>\n",
    "    <div style=\"max-width: 70%; height: auto;\">\n",
    "        <img \n",
    "             src=\"static/simple_hlm.png\" \n",
    "             alt=\"Photo showing Jose Alanis\" \n",
    "             title=\"Jose\" />\n",
    "    </div>\n",
    "</center>\n",
    "\n",
    "- Was wir hier sehen können, ist dass der Zusammenhang zweier Variablen sehr Unterschiedlich aussehen kann, jenachdem, ob wir uns den Zusammenhang über Gruppen hinweg oder innnerhalb der Gruppen anschauen."
   ]
  },
  {
   "cell_type": "markdown",
   "metadata": {
    "slideshow": {
     "slide_type": "slide"
    }
   },
   "source": [
    "## Hierarchische Daten\n",
    "\n",
    "- Datenstrukturen mit mehreren hierarchisch geordneten Ebenen (*levels*)\n",
    "- Innerhalb jeder Ebene liegen klar definierte Einheiten vor (*units*)\n",
    "- Jede Einheit einer Ebene ist eindeutig einer Einheit der nächsthöheren Ebene zugeordnet\n",
    "  - Hier sprechen wir von genestete Daten (*nested*, *clustered*)\n",
    "\n",
    "<br>\n",
    "\n",
    "<center>\n",
    "    <div style=\"max-width: 60%; height: auto;\">\n",
    "        <img \n",
    "             src=\"static/study_classes.png\" \n",
    "             alt=\"2-level university classes\" \n",
    "             title=\"2-level model (2)\" />\n",
    "    </div>\n",
    "</center>"
   ]
  },
  {
   "cell_type": "markdown",
   "metadata": {
    "slideshow": {
     "slide_type": "subslide"
    }
   },
   "source": [
    "Welche andere Beispiele für hierarchisch organisierten Daten gibt es?\n"
   ]
  },
  {
   "cell_type": "markdown",
   "metadata": {
    "slideshow": {
     "slide_type": "subslide"
    }
   },
   "source": [
    "### Beispiel 1\n",
    "\n",
    "\n",
    "<br>\n",
    "\n",
    "<center>\n",
    "    <div style=\"max-width: 60%; height: auto;\">\n",
    "        <img \n",
    "             src=\"static/school_classes.png\" \n",
    "             alt=\"2-level  school classes\" \n",
    "             title=\"2-level model (2)\" />\n",
    "    </div>\n",
    "</center>\n"
   ]
  },
  {
   "cell_type": "markdown",
   "metadata": {
    "slideshow": {
     "slide_type": "subslide"
    },
    "tags": []
   },
   "source": [
    "### Beispiel 2\n",
    "\n",
    "- Können `units` zu mehreren \"Klassen/Gruppen\" gehören?\n",
    "\n",
    "<br>\n",
    "\n",
    "<center>\n",
    "    <div style=\"max-width: 60%; height: auto;\">\n",
    "        <img \n",
    "             src=\"static/family_class.png\" \n",
    "             alt=\"2-level people in families\" \n",
    "             title=\"2-level model (3)\" />\n",
    "    </div>\n",
    "</center>\n",
    "\n",
    "- Nein, eine Beochatung muss eindeutig zu einer einzigen Klasse zugeordnet werden."
   ]
  },
  {
   "cell_type": "markdown",
   "metadata": {
    "slideshow": {
     "slide_type": "subslide"
    }
   },
   "source": [
    "### Beispiel 3\n",
    "\n",
    "- Sind bestimmte `units` (z.B. Personen) immer auf dem niedrigten Level einzuordnen (z.B. Level 1)?\n",
    "\n",
    "<br>\n",
    "\n",
    "<center>\n",
    "    <div style=\"max-width: 60%; height: auto;\">\n",
    "        <img \n",
    "             src=\"static/time_as_level.png\" \n",
    "             alt=\"2-level time in person\" \n",
    "             title=\"2-level model (4)\" />\n",
    "    </div>\n",
    "</center>\n",
    "\n",
    "- Nein, innerhalb von Personen können mehrere Messzeitpunkte genestet sein."
   ]
  },
  {
   "cell_type": "markdown",
   "metadata": {
    "slideshow": {
     "slide_type": "subslide"
    }
   },
   "source": [
    "### Besipiel 4\n",
    "\n",
    "- Wie viele Levels sind angemessen, um die hierarchische Struktur der Daten abzubilden?\n",
    "\n",
    "\n",
    "<br>\n",
    "\n",
    "<center>\n",
    "    <div style=\"max-width: 60%; height: auto;\">\n",
    "        <img \n",
    "             src=\"static/many_levels.png\" \n",
    "             alt=\"many nested levels\" \n",
    "             title=\"multi-level model with many nested levels\" />\n",
    "    </div>\n",
    "</center>\n",
    "\n",
    "- Im Prinzip keine Begrenzung nach oben."
   ]
  },
  {
   "cell_type": "markdown",
   "metadata": {
    "slideshow": {
     "slide_type": "subslide"
    }
   },
   "source": [
    "## Konzequenzen hierarchische Daten\n",
    "\n",
    "**Was sind die Konsequenzen hierarchischer Daten?**  \n",
    "  - Beobachtungen innerhalb einer Einheit sind oftmals nicht unabhängig voneinander, sondern \n",
    "    - beeinflussen sich gegenseitig  \n",
    "    - werden in gleicher Weise beeinflusst  \n",
    "\n",
    "Beispiele:  \n",
    "  - Schüler:innen teilen Klassenkontext  \n",
    "  - Patient:innen teilen behandelnden Arzt:in  \n",
    "  - Geschwister teilen Gene und Umwelt  \n",
    "  - Arbeitnehmer:innen teilen Unternehmen, Standort, usw.  "
   ]
  },
  {
   "cell_type": "markdown",
   "metadata": {
    "slideshow": {
     "slide_type": "subslide"
    }
   },
   "source": [
    "Weitere Konsequenzen hierarchischer Daten:\n",
    "  - Beobachtungen innerhalb einer Einheit ähneln sich stärker als die zwischen den Einheiten\n",
    "  - das verletzt die Unabhängigkeitsannahme verschiedener statistischen Methoden (z.B., die der Regression), die Daten sind also nicht `independent and identically distributed`\n",
    "  - Werden solche Abhängigkeite ignoriert, resultieren (drastisch) unterschätzte Standardfehler mitunter irreführende Schätzungen von Zusammenhängen (s. Zusammenhang von Studiumdauer und Gehalt)\n"
   ]
  },
  {
   "cell_type": "markdown",
   "metadata": {
    "slideshow": {
     "slide_type": "subslide"
    }
   },
   "source": [
    "Also, wie können wir mit hierarchisch organisierte Daten umgehen?"
   ]
  }
 ],
 "metadata": {
  "anaconda-cloud": {},
  "celltoolbar": "Slideshow",
  "kernelspec": {
   "display_name": "Python 3 (ipykernel)",
   "language": "python",
   "name": "python3"
  },
  "language_info": {
   "codemirror_mode": {
    "name": "ipython",
    "version": 3
   },
   "file_extension": ".py",
   "mimetype": "text/x-python",
   "name": "python",
   "nbconvert_exporter": "python",
   "pygments_lexer": "ipython3",
   "version": "3.9.7"
  }
 },
 "nbformat": 4,
 "nbformat_minor": 4
}
