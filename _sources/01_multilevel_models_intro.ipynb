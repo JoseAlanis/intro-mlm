{
 "cells": [
  {
   "cell_type": "markdown",
   "metadata": {
    "slideshow": {
     "slide_type": "slide"
    }
   },
   "source": [
    "# Seminar: Fortgeschrittene statistische Methoden II (Vertiefung)\n",
    "\n",
    "## Multi-Level Modelle - Einführung (hierarchische Daten)\n",
    "\n",
    "<br>\n",
    "<br>\n",
    "\n",
    "[José C. García Alanis (he/him)](https://github.com/JoseAlanis)\n",
    "\n",
    "Wissenschaftlicher Mitarbeiter - Analyse und Modellierung komplexer Daten [an der JGU](https://methoden.amd.psychologie.uni-mainz.de/).\n",
    "\n",
    "Kinder- und Jugendlichen-Psychotherapie in [Marburg](https://www.uni-marburg.de/de).\n",
    "\n",
    "Mitglied in [RTG 2271 | Breaking Expectations](https://www.uni-marburg.de/en/fb04/rtg-2271) und [Brainhack](https://brainhack.org/).\n",
    "\n",
    "<img align=\"left\" src=\"https://raw.githubusercontent.com/G0RELLA/gorella_mwn/master/lecture/static/Twitter%20social%20icons%20-%20circle%20-%20blue.png\" alt=\"logo\" title=\"Twitter\" width=\"30\" height=\"30\" /> <img align=\"left\" src=\"https://raw.githubusercontent.com/G0RELLA/gorella_mwn/master/lecture/static/GitHub-Mark-120px-plus.png\" alt=\"logo\" title=\"Github\" width=\"30\" height=\"30\" />  &nbsp;&nbsp;@JoiAlhaniz <br> &nbsp;&nbsp;&nbsp;&nbsp;&nbsp;&nbsp; @JoseAlanis\n",
    "\n",
    "<br>"
   ]
  },
  {
   "cell_type": "markdown",
   "metadata": {
    "slideshow": {
     "slide_type": "slide"
    }
   },
   "source": [
    "## Ziele\n",
    "\n",
    "Am Ende des heutigen Termins solltet ihr folgede Fragen beantworten können:\n",
    "\n",
    "- Was sind hierachische Daten?\n",
    "- Wie sehen hierarchische Daten aus?\n",
    "- Welche Komplikationen bringen hierarchische Daten mit sich?\n",
    "- Worauf soll man aufpassen, wenn man mit hierarchischen Daten zu tun hat?\n",
    "- Wie kann man mit hierarchischen Daten umgehen? (Ausblick)"
   ]
  },
  {
   "cell_type": "markdown",
   "metadata": {
    "slideshow": {
     "slide_type": "slide"
    }
   },
   "source": [
    "## Die grund Idee\n",
    "\n",
    "Eine simple Annahme:\n",
    "\n",
    "Die Ausprägung einer Variable hängt von der Ausprägung einer anderen Variable (oder Kombination von Variablen) ab.\n",
    "\n",
    "- Beschreibung des Zusammenhangs anhand einer linearen Regression:\n",
    "\n",
    "$$\n",
    "y =\\beta_{0} + X\\beta + \\epsilon\n",
    "$$"
   ]
  },
  {
   "cell_type": "markdown",
   "metadata": {
    "slideshow": {
     "slide_type": "subslide"
    }
   },
   "source": [
    "## Die grund Idee\n",
    "\n",
    "Die Ausprägung einer Variable hängt von der Ausprägung einer anderen Variable (oder Kombination von Variablen) ab.\n",
    "\n",
    "- Beschreiben wir nun den Zusammenhang dieser beider Variablen anhang einer einfachen linearen regression.\n",
    "\n",
    "<center>\n",
    "<img src=\"simple_regress.png\" alt=\"Photo showing Jose Alanis\" title=\"Jose\" width=\"500\" height=\"500\" />\n",
    "</center>\n",
    "\n",
    "- Was sagt die *gefittete* Linie aus?\n",
    "- Die linie Zeit die **best mögliche** Beschreibung zwischen `var_x` und `var_y`. *Best möglich* bedeutet, dass wir eine möglichst genaue Schätzung von `var_y` für jeden Wert von `var_x` haben.\n",
    "- Da der Zusammenhang zwischen den beiden Variablen nicht perfekt ist, müssen wir fehler im Kauf nehmen. Wir wollen aber, dass dieser Fehler möglichst gerig ist."
   ]
  },
  {
   "cell_type": "markdown",
   "metadata": {
    "slideshow": {
     "slide_type": "subslide"
    }
   },
   "source": [
    "## Die grund Idee\n",
    "\n",
    "Nun denken wir über folgende Aussagen nach:\n",
    "\n",
    "- \"Ein langes Studium zahlt sich in barer Münze aus\" (Krämer 2009, S. 165)\n",
    "- Zu diesem überraschenden Ergebnis kommt eine Studie über die Einstiegsgehälter von Berufsanfängern, für die die Deutsche Gesellschaft für Personalführung 44 Firmen befragt hat."
   ]
  },
  {
   "cell_type": "markdown",
   "metadata": {
    "slideshow": {
     "slide_type": "subslide"
    }
   },
   "source": [
    "## Die grund Idee\n",
    "\n",
    "Nun denken wir über folgende Aussagen nach:\n",
    "\n",
    "- \"Ein langes Studium zahlt sich in barer Münze aus\" (Krämer 2009, S. 165)\n",
    "- Zu diesem überraschenden Ergebnis kommt eine Studie über die Einstiegsgehälter von Berufsanfänger:innen, für die die Deutsche Gesellschaft für Personalführung 44 Firmen befragt hat. \n",
    "- Also ein längeres Studium für zu einem höheren Einstiegsgehält\n",
    "\n",
    "<br>\n",
    "\n",
    "<center><img src=\"https://media2.giphy.com/media/11bsDL7acBaiKk/giphy.gif?cid=ecf05e475gub83vlhr22qwcguc34v6vwm95vnyklhspa7z7j&rid=giphy.gif&ct=g\" alt=\"logo\" title=\"Github\" width=\"300\" height=\"300\" /></center>"
   ]
  },
  {
   "cell_type": "markdown",
   "metadata": {
    "slideshow": {
     "slide_type": "subslide"
    }
   },
   "source": [
    "## Die grund Idee\n",
    "\n",
    "- \"Ein langes Studium zahlt sich in barer Münze aus\" (Krämer 2009, S. 165), je mehr von `x` (Dauer des Studiums) desto mehr von `y` (Gehalt).\n",
    "\n",
    "<center>\n",
    "<img src=\"simple_regress.png\" alt=\"Photo showing Jose Alanis\" title=\"Jose\" width=\"800\" height=\"800\" />\n",
    "</center>"
   ]
  },
  {
   "cell_type": "markdown",
   "metadata": {
    "slideshow": {
     "slide_type": "subslide"
    }
   },
   "source": [
    "## Die grund Idee\n",
    "\n",
    "- \"Ein langes Studium zahlt sich in barer Münze aus\" (Krämer 2009, S. 165)\n",
    "- Wie sieht es aus, wenn wir die Struktur der Daten berücksichitigen?\n",
    "  - z.B. Wie sieht es aus mit Subgruppen? Sind die Daten *homogen*?\n",
    "\n",
    "<center>\n",
    "<img src=\"simple_groups.png\" alt=\"Photo showing Jose Alanis\" title=\"Jose\" width=\"800\" height=\"800\" />\n",
    "</center>"
   ]
  },
  {
   "cell_type": "markdown",
   "metadata": {
    "slideshow": {
     "slide_type": "subslide"
    }
   },
   "source": [
    "## Die grund Idee\n",
    "\n",
    "- \"Ein langes Studium zahlt sich in barer Münze aus\" (Krämer 2009, S. 165)\n",
    "- Wie sieht es aus, wenn wir die Struktur der Daten berücksichitigen?\n",
    "  - z.B. Wie sieht es mit **Subgruppen** aus? Sind die Daten *homogen*?\n",
    "  - wie wirkt sich die **hierarchische Struktur der Daten** auf die Regressions ergebnisse?\n",
    "\n",
    "<center>\n",
    "<img src=\"simple_hlm.png\" alt=\"Photo showing Jose Alanis\" title=\"Jose\" width=\"800\" height=\"800\" />\n",
    "</center>\n",
    "\n",
    "- Was wir hier sehen können, ist dass der Zusammenhang zweier Variablen sehr Unterschiedlich aussehen kann, jenachdem, ob wir uns den Zusammenhang über Gruppen hinweg oder innnerhalb der Gruppen anschauen."
   ]
  },
  {
   "cell_type": "markdown",
   "metadata": {
    "slideshow": {
     "slide_type": "slide"
    }
   },
   "source": [
    "## Hierarchische Daten\n",
    "\n",
    "- Datenstrukturen mit mehreren hierarchisch geordneten Ebenen (*levels*)\n",
    "- Innerhalb jeder Ebene liegen klar definierte Einheiten vor (*units*)\n",
    "- Jede Einheit einer Ebene ist eindeutig einer Einheit der nächsthöheren Ebene zugeordnet\n",
    "  - Hier sprechen wir von genestete Daten (*nested*, *clustered*)\n",
    "\n",
    "<br>\n",
    "\n",
    "<center>\n",
    "<img src=\"study_classes.png\" alt=\"Photo showing Jose Alanis\" title=\"Jose\" width=\"500\" height=\"500\" />\n",
    "</center>"
   ]
  },
  {
   "cell_type": "markdown",
   "metadata": {
    "slideshow": {
     "slide_type": "subslide"
    }
   },
   "source": [
    "## Hierarchische Daten\n",
    "\n",
    "Welche andere Beispiele für hierarchisch organisierten Daten gibt es?\n"
   ]
  },
  {
   "cell_type": "markdown",
   "metadata": {
    "slideshow": {
     "slide_type": "subslide"
    }
   },
   "source": [
    "## Hierarchische Daten\n",
    "\n",
    "Welche andere Beispiele für hierarchisch organisierten Daten gibt es?\n",
    "\n",
    "<br>\n",
    "\n",
    "<center>\n",
    "<img src=\"school_classes.png\" alt=\"Photo showing Jose Alanis\" title=\"Jose\" width=\"500\" height=\"500\" />\n",
    "</center>\n"
   ]
  },
  {
   "cell_type": "markdown",
   "metadata": {
    "slideshow": {
     "slide_type": "subslide"
    }
   },
   "source": [
    "## Hierarchische Daten\n",
    "\n",
    "Können `units` zu mehreren \"Klassen/Gruppen\" gehören?\n",
    "\n",
    "<br>\n",
    "\n",
    "<center>\n",
    "<img src=\"family_class.png\" alt=\"Photo showing Jose Alanis\" title=\"Jose\" width=\"500\" height=\"500\" />\n",
    "</center>"
   ]
  },
  {
   "cell_type": "markdown",
   "metadata": {
    "slideshow": {
     "slide_type": "subslide"
    }
   },
   "source": [
    "## Hierarchische Daten\n",
    "\n",
    "Sind bestimmte `units` (z.B. Personen) immer auf dem niedrigten Level einzuordnen (z.B. Level 1)?\n",
    "\n",
    "<br>\n",
    "\n",
    "<center>\n",
    "<img src=\"time_as_level.png\" alt=\"Photo showing Jose Alanis\" title=\"Jose\" width=\"500\" height=\"500\" />\n",
    "</center>"
   ]
  },
  {
   "cell_type": "markdown",
   "metadata": {
    "slideshow": {
     "slide_type": "subslide"
    }
   },
   "source": [
    "## Hierarchische Daten\n",
    "\n",
    "Wie viele Levels sind angemessen, um die hierarchische Struktur der Daten abzubilden?\n",
    "\n",
    "\n",
    "<br>\n",
    "\n",
    "<center>\n",
    "<img src=\"many_levels.png\" alt=\"Photo showing Jose Alanis\" title=\"Jose\" width=\"900\" height=\"900\" />\n",
    "</center>"
   ]
  },
  {
   "cell_type": "markdown",
   "metadata": {
    "slideshow": {
     "slide_type": "subslide"
    }
   },
   "source": [
    "## Hierarchische Daten\n",
    "\n",
    "- Was sind die Konsequenzen hierarchischer Daten?\n",
    "  - Beobachtungen innerhalb einer Einheit sind oftmals nicht unabhängig voneinander, sondern \n",
    "    - beeinflussen sich gegenseitig\n",
    "    - werden in gleicher Weise beeinflusst\n",
    "\n",
    "- Beispiele:\n",
    "  - Schüler:innen teilen Klassenkontext\n",
    "  - Patient:innen teilen behandelnden Arzt:in\n",
    "  - Geschwister teilen Gene und Umwelt\n",
    "  - Arbeitnehmer:innen teilen Unternehmen, Standort, usw."
   ]
  },
  {
   "cell_type": "markdown",
   "metadata": {
    "slideshow": {
     "slide_type": "subslide"
    }
   },
   "source": [
    "## Hierarchische Daten\n",
    "\n",
    "- Konsequenzen hierarchischer Daten:\n",
    "  - Beobachtungen innerhalb einer Einheit ähneln sich stärker als die zwischen den Einheiten\n",
    "  - das verletzt die Unabhängigkeitsannahme verschiedener statistischen Methoden (z.B., die der Regression), die Daten sind also nicht `independent and identically distributed`\n",
    "  - Werden solche Abhängigkeite ignoriert, resultieren (drastisch) unterschätzte Standardfehler mitunter irreführende Schätzungen von Zusammenhängen (s. Zusammenhang von Studiumdauer und Gehalt)\n"
   ]
  },
  {
   "cell_type": "markdown",
   "metadata": {
    "slideshow": {
     "slide_type": "subslide"
    }
   },
   "source": [
    "## Hierarchische Daten\n",
    "\n",
    "- Also, wie können wir mit hierarchisch organisierte Daten umgehen?\n"
   ]
  }
 ],
 "metadata": {
  "anaconda-cloud": {},
  "celltoolbar": "Slideshow",
  "kernelspec": {
   "display_name": "Python 3 (ipykernel)",
   "language": "python",
   "name": "python3"
  },
  "language_info": {
   "codemirror_mode": {
    "name": "ipython",
    "version": 3
   },
   "file_extension": ".py",
   "mimetype": "text/x-python",
   "name": "python",
   "nbconvert_exporter": "python",
   "pygments_lexer": "ipython3",
   "version": "3.9.7"
  }
 },
 "nbformat": 4,
 "nbformat_minor": 4
}
