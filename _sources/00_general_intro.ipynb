{
 "cells": [
  {
   "cell_type": "markdown",
   "metadata": {
    "slideshow": {
     "slide_type": "slide"
    }
   },
   "source": [
    "   <div \n",
    "     style=\"float: right; margin-left: 1em; margin-top: 1em; max-width: 200px; height: auto;\">\n",
    "    <img src=\"https://raw.githubusercontent.com/MathiasHarrer/Doing-Meta-Analysis-in-R/master/images/multilevel-model.png\" />\n",
    "    <figcaption>https://jjallaire.github.io/visualization-curriculum/</figcaption>\n",
    "</div>\n",
    "\n",
    "# Seminar: Multilevel-Modelle - SoSe 2022\n",
    "## Organisatorisches zur Veranstaltung\n",
    "\n",
    "<br>\n",
    "<br>\n",
    "\n",
    "[José C. García Alanis (he/him)](https://github.com/JoseAlanis)\n",
    "\n",
    "Wissenschaftlicher Mitarbeiter - Analyse und Modellierung komplexer Daten [an der JGU](https://methoden.amd.psychologie.uni-mainz.de/).\n",
    "\n",
    "Kinder- und Jugendlichen-Psychotherapie in [Marburg](https://www.uni-marburg.de/de).\n",
    "\n",
    "Mitglied in [RTG 2271 | Breaking Expectations](https://www.uni-marburg.de/en/fb04/rtg-2271) und [Brainhack](https://brainhack.org/).\n",
    "\n",
    "<img align=\"left\" src=\"https://raw.githubusercontent.com/G0RELLA/gorella_mwn/master/lecture/static/Twitter%20social%20icons%20-%20circle%20-%20blue.png\" alt=\"logo\" title=\"Twitter\" width=\"30\" height=\"30\" /> <img align=\"left\" src=\"https://raw.githubusercontent.com/G0RELLA/gorella_mwn/master/lecture/static/GitHub-Mark-120px-plus.png\" alt=\"logo\" title=\"Github\" width=\"30\" height=\"30\" />   &nbsp;&nbsp;@JoiAlhaniz / @JoseAlanis\n",
    "\n",
    "<br>"
   ]
  },
  {
   "cell_type": "markdown",
   "metadata": {
    "slideshow": {
     "slide_type": "slide"
    }
   },
   "source": [
    "## Bevor wir loslegen ...\n",
    "\n",
    "- Sie, Du, **gendern**, CoC ...\n",
    "- Barrieren Freiheit ...\n",
    "- Sorry für Fehler und komische Formulierungen, bitte spricht mich an (sprechen Sie mich an), falls etwas unklar sein sollte."
   ]
  },
  {
   "cell_type": "markdown",
   "metadata": {
    "slideshow": {
     "slide_type": "subslide"
    }
   },
   "source": [
    "## Bevor wir loslegen ...\n",
    "\n",
    "`who am i`\n",
    "<center>\n",
    "<img src=\"1622785058763.jpg\" alt=\"Photo showing Jose Alanis\" title=\"Jose\" width=\"300\" height=\"300\" />\n",
    "</center>\n",
    "\n",
    "|  wann |  wo | \n",
    "|--------------|--------------|\n",
    "|seit 2021|Wiss. Mitarbeiter in AMD an der JGU|\n",
    "|seit 2019|Ausbildung zum KiJu-Psychotherapeut an KJ-IPAM (Marburg)|\n",
    "|2016|McConnell Brain Imaging Centre, MNI (Montreal)|\n",
    "|2014–2021|Wiss. Mitarbeiter, Neuropsy., Uni Marburg|\n",
    "|2008–2014|Studium der Psychologie (Diplom), Uni Marburg|\n",
    "\n",
    "<br>\n",
    "\n",
    "Erfahrung mit Multi-Level Modelle:\n",
    "- [Google Project](https://gist.github.com/JoseAlanis/08d75e49ab30630adb34774107cc8a75) zu Multi-Level Modelling.\n",
    "  - Fokus auf EEG, Python.\n",
    "- [Publikation](https://www.nature.com/articles/s41598-018-38417-2) zur **Interaktion von personellen und situationellen Faktoren**."
   ]
  },
  {
   "cell_type": "markdown",
   "metadata": {
    "slideshow": {
     "slide_type": "slide"
    }
   },
   "source": [
    "## Organisatorisches\n",
    "\n",
    "Rahmenbedingungen:\n",
    "- Fast alle Lehrveranstaltungen der Abteilung für Analyse und Modellierung komplexer Daten werden hybrid angeboten\n",
    "- Was bedeuted das?\n",
    "  - Ein **Wechsel zwischen Präsenz- und Onlinelehre wird stattfinden**. Wie groß die jeweiligen Präsenz- und Onlineanteile sind, unterscheidet sich zwischen den einzelnen Lehrveranstaltungen"
   ]
  },
  {
   "cell_type": "markdown",
   "metadata": {
    "slideshow": {
     "slide_type": "subslide"
    }
   },
   "source": [
    "## Organisatorisches\n",
    "\n",
    "Für Sie relevant:\n",
    "- Das Seminar findet (überwiegend) in Präsenz statt (v.A. am Anfang des Semesters)\n",
    "- Theoretische Inhalte und Fallbeispiele werden in der Sitzung *live* vermittelt und besprochen\n",
    "- Folien und Materialien werden zusätzlich in digitaler Form zur Verfügung gestellt\n",
    "- Das Tutorium findet 14-tägig (45 min / 1 SWS), voraussichtlich vollständig in Präsenz, statt. **Der erste Termin ist am 27.04.**."
   ]
  },
  {
   "cell_type": "markdown",
   "metadata": {
    "slideshow": {
     "slide_type": "slide"
    }
   },
   "source": [
    "## Erwarungen und Ziele\n",
    "\n",
    "- Welche Erwartungen haben Sie an den Kurs?\n",
    "- Welche Erfahrungen bringen Sie mit?\n",
    "  - https://tinyurl.com/ra4nav9k"
   ]
  },
  {
   "cell_type": "markdown",
   "metadata": {
    "slideshow": {
     "slide_type": "subslide"
    }
   },
   "source": [
    "## Erwartungen und Ziele\n",
    "\n",
    "Auszug aus dem Modulhandbuch:\n",
    "\n",
    "<center>\n",
    "<img src=\"modulhandbuch.png\" \n",
    "     alt=\"Bild vom Modulhandbuch, auf dem die Berschreibugn von Modul A: Fortgeschrittene statistische Methoden zu sehen ist.\" title=\"moduldesc\" width=\"600\" height=\"600\" />\n",
    "</center>"
   ]
  },
  {
   "cell_type": "markdown",
   "metadata": {
    "slideshow": {
     "slide_type": "slide"
    }
   },
   "source": [
    "## Kommunikation währed des Semesters\n",
    "\n",
    "- Welche Erfarungen habn Sie, was funktioniert gut, was sollte vermieden werden?\n",
    "  - Benutzt soll nur eine Plattform, in diesem Fall LMS (moodle)\n",
    "  - Vermiden soll werden, das Informationen zum Seminar auf verschiedene Kanäle geteilt werden und dadurch Verwirrgun bezgl. \"was gilt\" entsteht. \n",
    "\n",
    "- Zu klären bleibt:\n",
    "  - Soll die Seminar-Leistung als Einzel- oder in Gruppen-Leistung abgegeben werden?\n",
    "  - Fahrplan und genau Aufstellung der Termine für das Seminar und für das Tutorium soll auf LMS veröffentlicht werden."
   ]
  },
  {
   "cell_type": "markdown",
   "metadata": {
    "slideshow": {
     "slide_type": "slide"
    }
   },
   "source": [
    "# Was benötigen Sie von mir?\n",
    "\n",
    "- Was sind Sie gewöhnt?\n",
    "- Elektronische Ressourcen, Literatur?\n",
    "  - z.B.: Andrew Gelman and Jennifer Hills' [*Data Analysis Using Regression and Multilevel/Hierarchical Models*](http://www.stat.columbia.edu/~gelman/arm/)"
   ]
  }
 ],
 "metadata": {
  "anaconda-cloud": {},
  "celltoolbar": "Slideshow",
  "kernelspec": {
   "display_name": "Python 3 (ipykernel)",
   "language": "python",
   "name": "python3"
  },
  "language_info": {
   "codemirror_mode": {
    "name": "ipython",
    "version": 3
   },
   "file_extension": ".py",
   "mimetype": "text/x-python",
   "name": "python",
   "nbconvert_exporter": "python",
   "pygments_lexer": "ipython3",
   "version": "3.9.7"
  }
 },
 "nbformat": 4,
 "nbformat_minor": 4
}
