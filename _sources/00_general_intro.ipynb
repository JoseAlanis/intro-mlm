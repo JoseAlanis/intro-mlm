{
 "cells": [
  {
   "cell_type": "markdown",
   "metadata": {
    "slideshow": {
     "slide_type": "slide"
    }
   },
   "source": [
    "# Seminar: Multilevel-Modelle - SoSe 2022\n",
    "<br>\n",
    "\n",
    "<center>\n",
    "    <div style=\"max-width: 80%; height: auto;\">\n",
    "        <img src=\"https://raw.githubusercontent.com/MathiasHarrer/Doing-Meta-Analysis-in-R/master/images/multilevel-model.png\"\n",
    "             alt=\"source: https://github.com/MathiasHarrer/Doing-Meta-Analysis-in-R\" \n",
    "             title=\"multi-level-structure\" />\n",
    "    </div>\n",
    "</center>\n",
    "<br>\n",
    "\n",
    "## Organisatorisches zur Veranstaltung\n",
    "Ansprechpartner: \n",
    "[José C. García Alanis (he/him)](https://github.com/JoseAlanis)  \n",
    "Wissenschaftlicher Mitarbeiter - Analyse und Modellierung komplexer Daten [an der JGU](https://methoden.amd.psychologie.uni-mainz.de/).  \n",
    "Kinder- und Jugendlichen-Psychotherapie in [Marburg](https://www.uni-marburg.de/de).  \n",
    "Mitglied in [RTG 2271 | Breaking Expectations](https://www.uni-marburg.de/en/fb04/rtg-2271) und [Brainhack](https://brainhack.org/).  \n",
    "<br>\n",
    "\n",
    "Kontakt:\n",
    "[jose.alanis[at]uni-mainz.de](jose.alanis@uni-mainz.de)  \n",
    "\n",
    "<img \n",
    "     align=\"left\" \n",
    "     src=\"https://raw.githubusercontent.com/G0RELLA/gorella_mwn/master/lecture/static/Twitter%20social%20icons%20-%20circle%20-%20blue.png\" \n",
    "     alt=\"twitter logo\"\n",
    "     title=\"Twitter\"\n",
    "     width=\"30\" height=\"30\" /> [@JoiAlhaniz](https://twitter.com/JoiAlhaniz)\n",
    "<img \n",
    "     lign=\"left\" \n",
    "     src=\"https://raw.githubusercontent.com/G0RELLA/gorella_mwn/master/lecture/static/GitHub-Mark-120px-plus.png\" \n",
    "     alt=\"github logo\"\n",
    "     title=\"Github\" \n",
    "     width=\"30\" height=\"30\" /> [@JoseAlanis](https://github.com/JoseAlanis)\n",
    "<br>"
   ]
  },
  {
   "cell_type": "markdown",
   "metadata": {
    "slideshow": {
     "slide_type": "slide"
    }
   },
   "source": [
    "## Bevor wir loslegen ...\n",
    "\n",
    "- Sie, Du, **gendern**, CoC ...\n",
    "- Barrieren Freiheit ...\n",
    "- Sorry für Fehler und komische Formulierungen, bitte spricht mich an (sprechen Sie mich an), falls etwas unklar sein sollte."
   ]
  },
  {
   "cell_type": "markdown",
   "metadata": {
    "slideshow": {
     "slide_type": "subslide"
    }
   },
   "source": [
    "## Über mich ...\n",
    "\n",
    "`who am i`\n",
    "<center>\n",
    "    <div style=\"max-width: 30%; height: auto;\">\n",
    "        <img src=\"static/1622785058763.jpg\" \n",
    "             alt=\"Photo showing Jose Alanis\" \n",
    "             title=\"Jose Alanis\"/>\n",
    "    </div>\n",
    "</center>\n",
    "<br>\n",
    "\n",
    "|  wann |  wo | \n",
    "|--------------|--------------|\n",
    "|seit 2021|Wiss. Mitarbeiter in AMD an der JGU|\n",
    "|seit 2019|Ausbildung zum KiJu-Psychotherapeut an KJ-IPAM (Marburg)|\n",
    "|2016|McConnell Brain Imaging Centre, MNI (Montreal)|\n",
    "|2014–2021|Wiss. Mitarbeiter, Neuropsy., Uni Marburg|\n",
    "|2008–2014|Studium der Psychologie (Diplom), Uni Marburg|\n",
    "\n",
    "<br>\n",
    "\n",
    "- Erfahrung mit Multi-Level Modelle:\n",
    "  - [Google Project](https://gist.github.com/JoseAlanis/08d75e49ab30630adb34774107cc8a75) zu Multi-Level Modelling.\n",
    "    - Fokus auf EEG, Python.\n",
    "  - Publikationen zur **Interaktion von personellen und situationellen Faktoren**:\n",
    "      - https://www.nature.com/articles/s41598-018-38417-2\n",
    "      - https://www.biorxiv.org/content/10.1101/2022.02.06.479156v1"
   ]
  },
  {
   "cell_type": "markdown",
   "metadata": {
    "slideshow": {
     "slide_type": "slide"
    }
   },
   "source": [
    "### Rahmenbedingungen\n",
    "\n",
    "- Alle Lehrveranstaltungen der Abteilung für Analyse und Modellierung komplexer Daten werden im Präsenz angeboten.\n",
    "\n",
    "### FAQs:\n",
    "- Besteht die Möglichkeit, Lehrveranstaltungen hybrid anzubieten oder aufzuzeichnen bzw. zu streamen? \n",
    "  - Es wird keine Veranstaltungen geben, die gleichzeitig in Präsenz und online durchgeführt werden, da die technischen Voraussetzungen für ein sinnvolles Streaming von Lehrveranstaltungen nicht gegeben sind.  \n",
    "  - Dennoch bemühen wir uns alle Infos und Materialien online zugänglich zu machen, um euer Mitmachen zu erleichern.  \n",
    "- Kann ich aufgrund von Terminkonflikten ein anderes Statistiktutorium besuchen als das zu meinem Seminar passende?  \n",
    "  - Leider müsst ihr das zu euer Lehrveranstaltung passende Tutorium belegen.  "
   ]
  },
  {
   "cell_type": "markdown",
   "metadata": {
    "slideshow": {
     "slide_type": "subslide"
    }
   },
   "source": [
    "### Zusammengefasst:  \n",
    "- Das Seminar findet in Präsenz statt.\n",
    "- Theoretische Inhalte und Fallbeispiele werden in der Sitzung *live* vermittelt und besprochen.\n",
    "- Folien und Materialien werden zusätzlich in digitaler Form zur Verfügung gestellt.\n",
    "- Das Tutorium findet 14-tägig (45 min / 1 SWS).\n",
    "  - **Der erste Tutoriumstermin ist am 27.04.**"
   ]
  },
  {
   "cell_type": "markdown",
   "metadata": {
    "slideshow": {
     "slide_type": "slide"
    }
   },
   "source": [
    "## Erwarungen und Ziele\n",
    "\n",
    "- Welche Erwartungen haben Sie an den Kurs?\n",
    "- Welche Erfahrungen bringen Sie mit?\n",
    "  - https://tinyurl.com/ra4nav9k"
   ]
  },
  {
   "cell_type": "markdown",
   "metadata": {
    "slideshow": {
     "slide_type": "subslide"
    }
   },
   "source": [
    "### Auszug aus dem Modulhandbuch:\n",
    "\n",
    "<center>\n",
    "    <div style=\"max-width: 70%; height: auto;\">\n",
    "        <img \n",
    "             src=\"static/modulhandbuch.png\" \n",
    "             alt=\"Bild vom Modulhandbuch, auf dem die Berschreibugn von Modul A: Fortgeschrittene statistische Methoden zu sehen ist.\" \n",
    "             title=\"moduldesc\" \n",
    "             width=\"600\" height=\"600\" />\n",
    "    </div>\n",
    "</center>"
   ]
  },
  {
   "cell_type": "markdown",
   "metadata": {
    "slideshow": {
     "slide_type": "slide"
    }
   },
   "source": [
    "## Kommunikation währed des Semesters\n",
    "\n",
    "- Welche Erfarungen haben Sie, was funktioniert gut, was sollte vermieden werden?\n",
    "  - Zusätzlich zu dieser Seite sollen die Folien auf moodle (LMS) hochgeladen werden.\n",
    "  - Komunikation erfolgt über Teams/Mail.\n",
    "  - Vermiden soll werden, das Informationen zum Seminar auf verschiedene Kanäle geteilt werden und dadurch Verwirrgun bezgl. \"was gilt\" entsteht. \n",
    "<br>\n",
    "- Zu klären bleibt:  \n",
    "  - Seminar-Leistung  wird als Einzel-Leistung abgegeben.\n",
    "    - Mehr dazu später.\n",
    "  - Fahrplan und genau Aufstellung der Termine für das Seminar und für das Tutorium soll auf LMS veröffentlicht werden.\n",
    "    - In Arbeit."
   ]
  },
  {
   "cell_type": "markdown",
   "metadata": {
    "slideshow": {
     "slide_type": "slide"
    }
   },
   "source": [
    "##  Was benötigen Sie von mir?\n",
    "\n",
    "- Was sind Sie gewöhnt?\n",
    "- Elektronische Ressourcen, Literatur?\n",
    "  - z.B.: Andrew Gelman and Jennifer Hills' [*Data Analysis Using Regression and Multilevel/Hierarchical Models*](http://www.stat.columbia.edu/~gelman/arm/)."
   ]
  }
 ],
 "metadata": {
  "anaconda-cloud": {},
  "celltoolbar": "Slideshow",
  "kernelspec": {
   "display_name": "Python 3 (ipykernel)",
   "language": "python",
   "name": "python3"
  },
  "language_info": {
   "codemirror_mode": {
    "name": "ipython",
    "version": 3
   },
   "file_extension": ".py",
   "mimetype": "text/x-python",
   "name": "python",
   "nbconvert_exporter": "python",
   "pygments_lexer": "ipython3",
   "version": "3.9.7"
  }
 },
 "nbformat": 4,
 "nbformat_minor": 4
}
