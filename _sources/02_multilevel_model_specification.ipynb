{
 "cells": [
  {
   "cell_type": "markdown",
   "metadata": {
    "slideshow": {
     "slide_type": "slide"
    },
    "tags": []
   },
   "source": [
    "# Modelspezifikation - Einführung\n",
    "<br>\n",
    "\n",
    "Ansprechpartner: \n",
    "[José C. García Alanis (he/him)](https://github.com/JoseAlanis)  \n",
    "Wissenschaftlicher Mitarbeiter - Analyse und Modellierung komplexer Daten [an der JGU](https://methoden.amd.psychologie.uni-mainz.de/).  \n",
    "Kinder- und Jugendlichen-Psychotherapie in [Marburg](https://www.uni-marburg.de/de).  \n",
    "Mitglied in [RTG 2271 | Breaking Expectations](https://www.uni-marburg.de/en/fb04/rtg-2271) und [Brainhack](https://brainhack.org/).  \n",
    "<br>\n",
    "\n",
    "Kontakt:\n",
    "[jose.alanis[at]uni-mainz.de](jose.alanis@uni-mainz.de)  \n",
    "\n",
    "<img align=\"left\" src=\"https://raw.githubusercontent.com/G0RELLA/gorella_mwn/master/lecture/static/Twitter%20social%20icons%20-%20circle%20-%20blue.png\" alt=\"logo\" title=\"Twitter\" width=\"30\" height=\"30\" /> <img align=\"left\" src=\"https://raw.githubusercontent.com/G0RELLA/gorella_mwn/master/lecture/static/GitHub-Mark-120px-plus.png\" alt=\"logo\" title=\"Github\" width=\"30\" height=\"30\" />   &nbsp;&nbsp;[@JoiAlhaniz](https://twitter.com/JoiAlhaniz) / [@JoseAlanis](https://github.com/JoseAlanis)\n",
    "\n",
    "<br>"
   ]
  },
  {
   "cell_type": "markdown",
   "metadata": {},
   "source": [
    "## Themen dieser Stunde \n",
    "\n",
    "- Schätzung der **Modelparameter**\n",
    "- Fallbeispiele\n",
    "- **Fixed-Effects** Modelle"
   ]
  },
  {
   "cell_type": "markdown",
   "metadata": {
    "jp-MarkdownHeadingCollapsed": true,
    "slideshow": {
     "slide_type": "slide"
    },
    "tags": []
   },
   "source": [
    "## Ziele\n",
    "\n",
    "Am Ende des heutigen Termins solltet ihr folgede Fragen beantworten können:\n",
    "\n",
    "- In wie fern unterschieden sich eine einfache Regression von einen Multi-Level Modell?\n",
    "- Was versteht man unter \"Fixed-Effects\" und was sind \"Fixed-Effects Modelle\"?\n",
    "- Was sind \"Random-Effects\"?\n",
    "- Wieso lassen sich Multi-Level Modelle auch als \"Mixed-Effects Modelle\" verstehen?"
   ]
  },
  {
   "cell_type": "markdown",
   "metadata": {
    "slideshow": {
     "slide_type": "slide"
    }
   },
   "source": [
    "## Rückblick zur letzten Stunde\n",
    "\n",
    "- Konzequenzen hierarchisch organisierter Daten:\n",
    "  - Beobachtungen innerhalb einer Gruppe (auch \"Einheit\", oder \"unit\" genannt) ähneln sich stärker als die zwischen den Einheiten.\n",
    "  - Dies verletzt die Unabhängigkeitsannahme der einfachen Regression (die Daten sind also nicht von einander unabhängig)\n",
    "  \n",
    "<center>\n",
    "     <div \n",
    "          style=\"max-width: 70%; height: auto;\">\n",
    "         <img \n",
    "              src=\"static/simple_hlm.png\" \n",
    "              alt=\"different effects for different groups\" \n",
    "              title=\"fitted lines mlm\" >\n",
    "     </div>\n",
    "</center>"
   ]
  },
  {
   "cell_type": "markdown",
   "metadata": {
    "slideshow": {
     "slide_type": "subslide"
    }
   },
   "source": [
    "- Werden Abhängigkeiten zwischen einzelnen Beobachten ignoriert:\n",
    "  - kann es zu einer (drastischen) Unterschätzung des Vorhersagefehlers kommen\n",
    "    - Besp. Der Zusammenhang über die Gruppen hinweg sieht anders aus als innerhalb der Gruppen.\n",
    "  - und es können irreführende Schätzungen von Zusammenhängen enstehen"
   ]
  },
  {
   "cell_type": "markdown",
   "metadata": {
    "slideshow": {
     "slide_type": "slide"
    }
   },
   "source": [
    "## Fallbeispiele\n",
    "\n",
    "### Fragestellung\n",
    "\n",
    "Wir wollen untersuchen wie sich der soziökonomischer Status (`SES`) von Schüler:innen, sich auf ihre Perfomanz in einem TEst zur Lesekompetenz (`performance`) auswirkt.\n",
    "\n",
    "<br>\n",
    "\n",
    "<center>\n",
    "     <div \n",
    "          style=\"max-width: 70%; height: auto;\">\n",
    "         <img \n",
    "              src=\"static/fig_1.png\" \n",
    "              alt=\"different effects for different groups\" \n",
    "              title=\"fitted lines mlm\" >\n",
    "     </div>\n",
    "</center>"
   ]
  },
  {
   "cell_type": "markdown",
   "metadata": {
    "slideshow": {
     "slide_type": "subslide"
    },
    "tags": []
   },
   "source": [
    "### Ergebnisse einfache Regression (`perfomance ~ ses`)\n",
    "\n",
    "- Eine **einfache lineare Reghression** (*ordinary least squares regression - OLS*) ist ein Modell, der den Effekt von SES auf die Lesekompetenz untersucht, ohne die hierarchische Struktur der Daten zu berücksichtigen.\n",
    "  - d.h. es untersucht der Zusammenhang zwischen `SES` und `performance` über alle Gruppen hinweg.\n",
    "  - Oder: Das Modell geht, davon aus, dass alle Personen aus einer einzigen Gruppe gezogen wurden (z.B. die allgemeine Population).\n",
    "  - Für die Grafik wurden die Werte von `SES` und `perfomance` [zentriert](https://de.wikipedia.org/wiki/Zentrierung_(Statistik)). Das bedeutet, dass ihr Mittelwert = Null ist.\n",
    "  - Auf der Y-Achse sehen wir `perfromace`, das ist die Variable, die vorhergesagt werden soll (auch Kriterium, oder Antwortvariable genannt).\n",
    "  - Auf der X-Achse befindet sich unser Prädiktor-Varible (das womit wir `performance` vorhersagen wollen).\n",
    "\n",
    "<br>\n",
    "\n",
    "<center>\n",
    "     <div \n",
    "          style=\"max-width: 70%; height: auto;\">\n",
    "         <img \n",
    "              src=\"static/fig_2.png\" \n",
    "              alt=\"OLS fit\" \n",
    "              title=\"OLS\" >\n",
    "     </div>\n",
    "</center>\n",
    "\n",
    "- $\\beta_{0}$\n",
    "  - Der Intercept des Modells (AKA - der *y-Achsen-Abschnitt*). $\\beta_{0}$ kann auch als: \"Der Wert von Y, wenn X = 0 ist\". Also welche `performane` zeigt eine Schüler:in, wenn sie ein Wert von 0 auf `ses` hat. Da ein Wert von 0 in `ses`  den Mittelwert der Gruppe eintspricht, entspricht $\\beta_{0}$: \"Die erwartete `performance` (Lesekompetenz), wenn `ses` (sozioökonomischer Status) durchschnittlich ist\".\n",
    "- $\\beta_{1}$\n",
    "  - Der Steigung des Modells (AKA - der effekt vom Prädiktor). \n",
    "  - $\\beta_{1}$ kann folgendermaßen vertanden werden: Wenn `ses` um eine Einheit steigt (also von 0 zu 1), steigt `performance` um das $\\beta_{1}$-fache. Also um 0.19. Jemand der ein `ses` von 1 hat, hat eine um 0.19 höre `performance`. Jemand der ein `ses` von 2 hat, hat eine 2 * 0.19 (= 0.38) höhere `performance`, usw."
   ]
  },
  {
   "cell_type": "markdown",
   "metadata": {},
   "source": [
    "### Zwischenfazit 1\n",
    "1. Wir können also sagen, je höher `ses`, desto höher die `performance` der Schüler:innen.  \n",
    "    - Zusätzlich können wir der Effekt von `ses`auf die `performance` beschreiben:\n",
    "      - Wenn `ses` um eine Einheit steigt, steigt die `performance` um 0.19. Das sollte für alle Schüler:innen ungefähr so stimmen (wir haben ja keine Gruppen/Klassen berücksichtigt).\n",
    "\n",
    "2. Das Modell nimmt an, das der Effekt von `ses` auf die `performance` konstant (oder **fix**) ist. Das bedeutet, dass der geschätzte Effekt für alle Personen gleich ist/sein sollte und nicht von Person zu Person variiert (oder sich nicht zwischen Personengruppen unterschiedet).\n",
    "    - **Fix-effects** sind die Effekte, von denen man ausgeht, dass in der Population vorliegen (stabil sind)."
   ]
  },
  {
   "cell_type": "markdown",
   "metadata": {
    "slideshow": {
     "slide_type": "subslide"
    }
   },
   "source": [
    "### Ergebnisse unter Berücksichtigung der Gruppenzugehörigkeit\n",
    "\n",
    "Lasst uns die Analyse wiederholen. Allerdings werden wir dabei berücksichtigen, dass die Daten der Schüler:innen aus drei verschiedenen Klassen stammen.\n",
    " - In einem ersten Schritt könnten wir eine einfache Regression für jede Klasse berechnen und die Ergebnisse aus diesen Regressionen vergleichen.\n",
    "\n",
    "Betrachten wir die folgende Abbildung:\n",
    "\n",
    "<br>\n",
    "\n",
    "<center>\n",
    "     <div \n",
    "          style=\"max-width: 70%; height: auto;\">\n",
    "         <img \n",
    "              src=\"static/fig_3.png\" \n",
    "              alt=\"OLS fit with greoups\" \n",
    "              title=\"OLS groups\" >\n",
    "     </div>\n",
    "</center>\n",
    "\n",
    "Aus unserer Analyse lässt sich nun $\\beta_{0}$ parameter und ein $\\beta_{1}$ parameter für jede einfache (gruppen spezifische) Regression schätzen.\n",
    "  - Nennen wir diese $\\beta_{0, j}$ und $\\beta_{1, j}$. Der index $j$ bedeutet, dass jede klasse ihr eigenes $\\beta_{0}$  bzw. $\\beta_{1}$ hat.\n",
    "    - Wir können diese auch \"ausschrieben\":\n",
    "      - $\\widehat{\\beta}_{0, 1}$ und $\\widehat{\\beta}_{1, 1}$ für **<font color='red'>Gruppe/Klasse 1</font>**\n",
    "      - $\\widehat{\\beta}_{0, 2}$ und $\\widehat{\\beta}_{1, 2}$ für **<font color='blue'>Gruppe/Klasse 2</font>**\n",
    "      - $\\widehat{\\beta}_{0, 3}$ und $\\widehat{\\beta}_{1, 3}$ für **<font color='green'>Gruppe/Klasse 3</font>**"
   ]
  },
  {
   "cell_type": "markdown",
   "metadata": {},
   "source": [
    "Bei der Betrachtung von $\\beta_{0, j}$ und $\\beta_{1, j}$ stellen wir fest, dass es Deutliche Unterschiede zwischen den Klassen gibt hinsichtlich:\n",
    "  - deren $\\beta_{0, j}$ gibt. Also deutliche Unterschiede in deren **mittleren Leistungsniveau**.\n",
    "    -  Woraus kann man dies erkennen? $\\beta_{0, j}$ ist der y-Achsenabschnitte, also die erwartete `performance` wenn `ses` = 0 ist. Da die Daten zentriert sind, entspricht `ses` = 0 den Mittelwert von `ses`.\n",
    "    den Zusammenhang zwischen `ses` und `perfomace`. Dies lässt sich in unterschiedlichen $\\beta_{1, j}$ (die geschätzte Steigung der Modelle)."
   ]
  },
  {
   "cell_type": "markdown",
   "metadata": {
    "slideshow": {
     "slide_type": "subslide"
    },
    "tags": []
   },
   "source": [
    "### Zwischenfazit 2\n",
    "\n",
    "Die Zugehörigkeit zu einer Klasse verändert also den Effekt von `ses` (zumindest deskriptiv). Im ersten Modell (eine eingfache Regression) könnten wir dies nicht sehen, weil das Modell \"naiv\" gegenüber die Klassenzugehörigkeit der Personen war.\n",
    "- Es wahrschienlich am sinnvollsten den Effekt von `ses` und `Klassenzugehörigkeit` (*between-subjects* Faktor mit 3 Stufen: Klasse 1, Klasse 2, Klasse 3) in einem gemeinsammen Modell zu untersuchen:\n",
    "  - Bei nur drei Klassen könnten wir `Klassenzugehörigkeit` als Kontrollvariable im Modell aufnehmen:\n",
    "    - Dies würde Abhängigkeiten die auf die `Klassenzugehörigkeit` zurück gehen kontrollieren.\n",
    "    - Aber: Wenn wir keine Interaktion zwischen Klasse und `ses` zulassen, würde unser Modell nur für die Unterschiedliche $\\beta_{0, j}$ der Klassen kontrollieren. Es würde also die Mittelwertsunterschiede der Klassen \"heraus rechnen\".\n",
    "  - Alternativ könnten wir `Klassenzugehörigkeit` als einen Moderator (Interaktion mit `ses`) im Modell aufnehmen:\n",
    "    - Dies würde uns erlauben nicht nur die unterschiedliche $\\beta_{0, j}$ zu untersuchen, sonder auch die unterschiedliche $\\beta_{1, j}$ zu betrachten und auf \"Unterschiedlichkeit\" zu testen."
   ]
  },
  {
   "cell_type": "markdown",
   "metadata": {},
   "source": [
    "- **Fixed-Effects Modelle sind Modelle** sind Modelle in denen Prädiktoren aufgenommen werden um, deren Effekte auf einenm Kriterium zu unterscuchen.\n",
    "- **Fixed-Effects** sind also die Effekte von den Prädiktoren die uns interessieren.\n",
    "  - Die Prädiktoren können in dem Modell aufgenommen werden, um dafür zu Kontrollieren, oder ihre \"kombinierte\" Effekte mit anderen Prädiktoen zu untersuchen."
   ]
  },
  {
   "cell_type": "markdown",
   "metadata": {},
   "source": [
    "### Einschränkung und Ausblick:\n",
    "\n",
    "**Fixed Effects Modelle** haben allerdings natürliche Grenzen und Nachteile:\n",
    "- Was machen wir, wenn wir nicht nur 3 Klassen haben, sondern 50 Klassen aus 10 verschiedenen Schulen?\n",
    "  - Bei K-1 zu schätzenden Parameter ergibt das 499 Indikatorvariablen ...\n",
    "- Was wenn wir uns nicht damit zufriedengeben wollen, zu zeigen, dass Unterschiede zwischen Klassen existieren (bzw. für diese kontrollieren). \n",
    "- Was wenn wir diese Unterschiede in einem Modell integrieren wollen, erklären, um bessere Vorhersagen im Feld zu ermöglichen?\n",
    "  - oder Rückschlüsse auf die Generatoren dieser Unterschiede zu ermöglichen?\n"
   ]
  }
 ],
 "metadata": {
  "anaconda-cloud": {},
  "celltoolbar": "Slideshow",
  "kernelspec": {
   "display_name": "Python 3 (ipykernel)",
   "language": "python",
   "name": "python3"
  },
  "language_info": {
   "codemirror_mode": {
    "name": "ipython",
    "version": 3
   },
   "file_extension": ".py",
   "mimetype": "text/x-python",
   "name": "python",
   "nbconvert_exporter": "python",
   "pygments_lexer": "ipython3",
   "version": "3.9.7"
  }
 },
 "nbformat": 4,
 "nbformat_minor": 4
}
