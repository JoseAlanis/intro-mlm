{
 "cells": [
  {
   "cell_type": "code",
   "execution_count": null,
   "id": "0a3d244a-d1f8-4485-a94f-36b3d8eec763",
   "metadata": {},
   "outputs": [],
   "source": [
    "## Mehr-Ebenen Modelle - Grundidee\n",
    "\n",
    "### Zwischenfazit:\n",
    "\n",
    "- Dafür bieten sich Mehrebenenmodelle an.\n",
    "  - Andere Bezeichnungen : Hierarchisch Lineares Modell, **Mixed-Effects Model**, Linear Mixed Model."
   ]
  },
  {
   "cell_type": "code",
   "execution_count": null,
   "id": "d6f81497-6b88-45bc-a905-f9f1636a3c95",
   "metadata": {},
   "outputs": [],
   "source": [
    "## Mehr-Ebenen Modelle - Modelschätzung\n",
    "\n",
    "- Wir könnten je Klasse (j) eine eigene Regression zur Vorhersage der Leistung (Y) durch Status (X) durchführen:\n",
    "\n",
    "<br>\n",
    "\n",
    "<center>\n",
    "<img src=\"./02_figures/fig_4.png\" alt=\"Photo showing Jose Alanis\" title=\"Jose\" width=\"600\" height=\"600\" />\n",
    "</center>\n",
    "\n",
    "- Die beobachteten Werte (X und Y), Regressionskoeffizienten (𝛽 0und 𝛽 1) und Residuen (e) erhalten einen weiteren Index j, der die Gruppenzugehörigkeit angibt. Wir erhalten also:\n",
    "\n",
    "<br>\n",
    "\n",
    "<center>\n",
    "<img src=\"./02_figures/fig_4_1.png\" alt=\"Photo showing Jose Alanis\" title=\"Jose\" width=\"600\" height=\"600\" />\n",
    "</center>"
   ]
  },
  {
   "cell_type": "code",
   "execution_count": null,
   "id": "dafa9d3a-2712-4a9d-b987-14fa9bbb6a86",
   "metadata": {},
   "outputs": [],
   "source": [
    "## Mehr-Ebenen Modelle - Modelschätzung\n",
    "\n",
    "<br>\n",
    "\n",
    "<center>\n",
    "<img src=\"./02_figures/fig_4.png\" alt=\"Photo showing Jose Alanis\" title=\"Jose\" width=\"600\" height=\"600\" />\n",
    "</center>\n",
    "\n",
    "- Anstelle gruppenspezifische Regressionen durchzuführen, könnte man auch den Mittelwert der Koeffizienten und die Abweichung jeder Gruppe bestimmen.\n",
    "\n",
    "<br>\n",
    "\n",
    "- Mittlere Koeffizienten:\n",
    "  \n",
    "<center>\n",
    "<img src=\"./02_figures/fig_5_1.png\" alt=\"Photo showing Jose Alanis\" title=\"Jose\" width=\"300\" height=\"300\" />\n",
    "</center>\n",
    "\n",
    "- Gruppenspezifische Abweichung:\n",
    "<center>\n",
    "<img src=\"./02_figures/fig_5_2.png\" alt=\"Photo showing Jose Alanis\" title=\"Jose\" width=\"300\" height=\"300\" />\n",
    "</center>"
   ]
  },
  {
   "cell_type": "code",
   "execution_count": null,
   "id": "b83986c4-8e31-49e0-8067-902b22fc0a06",
   "metadata": {},
   "outputs": [],
   "source": [
    "## Mehr-Ebenen Modelle - Modelschätzung\n",
    "\n",
    "- zurück zu unseren Beispiel.\n",
    "\n",
    "<br>\n",
    "\n",
    "<center>\n",
    "<img src=\"./02_figures/fig_3.png\" alt=\"Photo showing Jose Alanis\" title=\"Jose\" width=\"800\" height=\"800\" />\n",
    "</center>"
   ]
  },
  {
   "cell_type": "code",
   "execution_count": null,
   "id": "c4e22ba5-b29e-455e-8fcb-acfd9e305060",
   "metadata": {},
   "outputs": [],
   "source": [
    "## Mehr-Ebenen Modelle - Modelschätzung\n",
    "\n",
    "- zurück zu unseren Beispiel.\n",
    "\n",
    "<br>\n",
    "\n",
    "<center>\n",
    "<img src=\"./02_figures/fig_6.png\" alt=\"Photo showing Jose Alanis\" title=\"Jose\" width=\"900\" height=\"900\" />\n",
    "</center>"
   ]
  },
  {
   "cell_type": "code",
   "execution_count": null,
   "id": "68080c3e-ff9a-4e26-92de-04cc2558434f",
   "metadata": {},
   "outputs": [],
   "source": [
    "## Mehr-Ebenen Modelle - Modelschätzung\n",
    "\n",
    "- für dieses Beispiel resultiert die folgende Struktur:\n",
    "\n",
    "<br>\n",
    "\n",
    "<center>\n",
    "<img src=\"./02_figures/fig_7.png\" alt=\"Photo showing Jose Alanis\" title=\"Jose\" width=\"600\" height=\"600\" />\n",
    "</center>\n",
    "\n",
    "- Die gruppenspezifischen Regressionskoeffizienten (𝛽 0𝑗 , 𝛽 1𝑗) werden also ausgedrückt als Summe von:\n",
    "  - a) gruppenunspezifischen (mittleren) Koeffizienten (𝛾 0(𝛽 0), 𝛾 0(𝛽 1))\n",
    "  - b) gruppenspezifischen Abweichungen (Level-2 Residuen: 𝑢𝑗(𝛽 0), 𝑢𝑗(𝛽 1))"
   ]
  },
  {
   "cell_type": "code",
   "execution_count": null,
   "id": "e7758554-0a80-441c-b27e-afe0d14738ea",
   "metadata": {},
   "outputs": [],
   "source": [
    "## Mehr-Ebenen Modelle - Modelschätzung\n",
    "\n",
    "- für dieses Beispiel resultiert die folgende Struktur:\n",
    "\n",
    "<br>\n",
    "    \n",
    "<center>\n",
    "<img src=\"./02_figures/fig_8.png\" alt=\"Photo showing Jose Alanis\" title=\"Jose\" width=\"600\" height=\"600\" />\n",
    "</center>\n",
    "\n",
    "- Wenn wir die Werte einsetzten ergibt sich:\n",
    "\n",
    "\n",
    "<br>\n",
    "    \n",
    "<center>\n",
    "<img src=\"./02_figures/fig_8_1.png\" alt=\"Photo showing Jose Alanis\" title=\"Jose\" width=\"900\" height=\"900\" />\n",
    "</center> "
   ]
  },
  {
   "cell_type": "code",
   "execution_count": null,
   "id": "36c112df-f416-4b0c-9b83-51b0638b3470",
   "metadata": {},
   "outputs": [],
   "source": [
    "## Mehr-Ebenen Modelle - Modelschätzung\n",
    "\n",
    "- für dieses Beispiel resultiert die folgende Struktur:\n",
    "\n",
    "<br>\n",
    "    \n",
    "<center>\n",
    "<img src=\"./02_figures/fig_8.png\" alt=\"Photo showing Jose Alanis\" title=\"Jose\" width=\"600\" height=\"600\" />\n",
    "</center>\n",
    "\n",
    "- Wenn wir die Werte einsetzten ergibt sich:\n",
    "\n",
    "\n",
    "<br>\n",
    "    \n",
    "<center>\n",
    "<img src=\"./02_figures/fig_9.png\" alt=\"Photo showing Jose Alanis\" title=\"Jose\" width=\"700\" height=\"700\" />\n",
    "</center> "
   ]
  },
  {
   "cell_type": "code",
   "execution_count": null,
   "id": "ac3f4816-e0bd-4095-b748-a5a1f0f5d251",
   "metadata": {},
   "outputs": [],
   "source": [
    "## Mehr-Ebenen Modelle - Modelschätzung\n",
    "\n",
    "### Zwischenfazit\n",
    "\n",
    "Fixed versus Random Effects\n",
    "- Einfache Lineare Regression:\n",
    "\n",
    "$$\n",
    "y =\\beta_{0} + X\\beta + \\epsilon\n",
    "$$\n",
    "\n",
    "  - Die Regressionskoeffizienten 𝛽 0, 𝛽 1 sind **für alle Beobachtungen identisch**. Daher nennt man diese **fixed effects Koeffizienten** (oder **feste Faktoren** oder deterministische Koeffizienten).\n",
    "  - Hingegen hat jede Person einen eigenen Wert auf der Residualvariablen ( e i ), die unabhängig und normalverteilt sein soll. **Das Residuum ist also eine Zufallsvariable** mit einer bestimmten Verteilung. Daher nennt man dies einen **random effect** (oder **Zufallsfaktor** oder stochastischen Koeffizienten)."
   ]
  },
  {
   "cell_type": "code",
   "execution_count": null,
   "id": "88f46f49-1ad6-4e97-a9bb-2b1bff1f39e6",
   "metadata": {},
   "outputs": [],
   "source": [
    "## Mehr-Ebenen Modelle - Modelschätzung\n",
    "\n",
    "### Zwischenfazit\n",
    "\n",
    "Fixed versus Random Effects\n",
    "- Mehr-Ebenen Regression:\n",
    "\n",
    "<br>\n",
    "    \n",
    "<center>\n",
    "<img src=\"./02_figures/fig_10.png\" alt=\"Photo showing Jose Alanis\" title=\"Jose\" width=\"300\" height=\"300\" />\n",
    "</center> \n",
    "\n",
    "\n",
    "  - Wenn die Regressionskoeffizienten 𝛽 0𝑗 und 𝛽 1𝑗 über die j Gruppen variieren dürfen, bezeichnet man diese als **random effects Koeffizienten**.\n",
    "  - Random effects Koeffizienten bestehen aus zwei Teilen:\n",
    "    -  Ein Teil ist über Gruppen identisch, also fixed 𝛾0 (𝛽 0),  𝛾0(𝛽 1)\n",
    "    - Das Level 2 Residuum variiert über Gruppen , ist also random 𝑢𝑗(𝛽 0), 𝑢𝑗(𝛽 1)"
   ]
  }
 ],
 "metadata": {
  "kernelspec": {
   "display_name": "Python 3 (ipykernel)",
   "language": "python",
   "name": "python3"
  },
  "language_info": {
   "codemirror_mode": {
    "name": "ipython",
    "version": 3
   },
   "file_extension": ".py",
   "mimetype": "text/x-python",
   "name": "python",
   "nbconvert_exporter": "python",
   "pygments_lexer": "ipython3",
   "version": "3.9.7"
  }
 },
 "nbformat": 4,
 "nbformat_minor": 5
}
